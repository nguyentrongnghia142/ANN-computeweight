{
 "cells": [
  {
   "cell_type": "markdown",
   "metadata": {},
   "source": [
    "# Compute adaptive weight for ANN by hand"
   ]
  },
  {
   "cell_type": "markdown",
   "metadata": {},
   "source": [
    "Input: [1,0.4,0.7]"
   ]
  },
  {
   "cell_type": "markdown",
   "metadata": {},
   "source": [
    "**Architecture**\n",
    "\n",
    "* Input [1] , [0.4] , [0.7] -> [j], [i] -> [k]\n",
    "* initial weight: 0.2-w1j, 0.1-w1i, 0.3-w2j, -0.1-w2i, -0.1-w3j, 0.2-w3i, 0.1-wjk, 0.5-wik"
   ]
  },
  {
   "cell_type": "markdown",
   "metadata": {},
   "source": [
    "*Forward:*\n",
    "\n",
    "* [j] =  0.2* w1j + 0.3 * w2j + -0.1 * w3j = 1 * 0.2 + 0.3 * 0.4 + -0.1 * 0.7 =  0.25\n",
    "* [i] =  0.1 * w1j + -0.1 * w2i + 0.2 * w3i = 1 * 0.1 + -0.1 * 0.4 + 0.2 * 0.7 =  0.19\n",
    "\n",
    "* [k] = [j] * wjk + [i] * wik = 0.1 * 0.25 + 0.5 * 0.19 = 0.12\n",
    "\n",
    "*Backward:*"
   ]
  },
  {
   "cell_type": "code",
   "execution_count": 1,
   "metadata": {},
   "outputs": [
    {
     "data": {
      "text/plain": [
       "0.25"
      ]
     },
     "execution_count": 1,
     "metadata": {},
     "output_type": "execute_result"
    }
   ],
   "source": [
    "1 * 0.2 + 0.3 * 0.4 + -0.1 * 0.7"
   ]
  },
  {
   "cell_type": "code",
   "execution_count": 3,
   "metadata": {},
   "outputs": [
    {
     "data": {
      "text/plain": [
       "0.19999999999999998"
      ]
     },
     "execution_count": 3,
     "metadata": {},
     "output_type": "execute_result"
    }
   ],
   "source": [
    "1 * 0.1 + -0.1 * 0.4 + 0.2 * 0.7"
   ]
  },
  {
   "cell_type": "code",
   "execution_count": 4,
   "metadata": {},
   "outputs": [
    {
     "data": {
      "text/plain": [
       "0.12"
      ]
     },
     "execution_count": 4,
     "metadata": {},
     "output_type": "execute_result"
    }
   ],
   "source": [
    "0.1 * 0.25 + 0.5 * 0.19"
   ]
  }
 ],
 "metadata": {
  "kernelspec": {
   "display_name": "Python 3",
   "language": "python",
   "name": "python3"
  },
  "language_info": {
   "codemirror_mode": {
    "name": "ipython",
    "version": 3
   },
   "file_extension": ".py",
   "mimetype": "text/x-python",
   "name": "python",
   "nbconvert_exporter": "python",
   "pygments_lexer": "ipython3",
   "version": "3.6.12"
  }
 },
 "nbformat": 4,
 "nbformat_minor": 4
}
