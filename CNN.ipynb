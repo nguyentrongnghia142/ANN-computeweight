{
 "cells": [
  {
   "cell_type": "markdown",
   "metadata": {},
   "source": [
    "# Compute adaptive weights for CNN (by hand)"
   ]
  },
  {
   "cell_type": "code",
   "execution_count": 1,
   "metadata": {},
   "outputs": [],
   "source": [
    "import numpy as np"
   ]
  },
  {
   "cell_type": "markdown",
   "metadata": {},
   "source": [
    "* Input là một ma trận 2 chiều 3*3 \n",
    "* Một lớp convolution filter 2*2 , s = 1 , p = 1\n",
    "* Một lớp Max-pooling kernel 1*2, s =1 \n",
    "* Một lớp dense \n",
    "* ouput có kích thước là 1*1"
   ]
  },
  {
   "cell_type": "code",
   "execution_count": 3,
   "metadata": {},
   "outputs": [
    {
     "name": "stdout",
     "output_type": "stream",
     "text": [
      "input: \n",
      " [[1 2 3]\n",
      " [4 5 6]\n",
      " [7 8 9]]\n"
     ]
    }
   ],
   "source": [
    "inpt = np.array([[1,2,3],[4,5,6],[7,8,9]])\n",
    "print(\"input: \\n\",inpt)"
   ]
  },
  {
   "cell_type": "code",
   "execution_count": 18,
   "metadata": {},
   "outputs": [
    {
     "name": "stdout",
     "output_type": "stream",
     "text": [
      "convolutio: \n",
      " [[1 0]\n",
      " [1 0]]\n"
     ]
    }
   ],
   "source": [
    "conv = np.array([[1,0],[1,0]])\n",
    "print(\"convolutio: \\n\",conv)"
   ]
  },
  {
   "cell_type": "code",
   "execution_count": 57,
   "metadata": {},
   "outputs": [
    {
     "name": "stdout",
     "output_type": "stream",
     "text": [
      "weight dense:  [1] [4]\n"
     ]
    }
   ],
   "source": [
    "weightdense1 = np.array([1])\n",
    "weightdense2 = np.array([4])\n",
    "print(\"weight dense: \", weightdense1,weightdense2)"
   ]
  },
  {
   "cell_type": "code",
   "execution_count": 21,
   "metadata": {},
   "outputs": [
    {
     "name": "stdout",
     "output_type": "stream",
     "text": [
      "12\n",
      "24\n",
      "16\n",
      "28\n"
     ]
    }
   ],
   "source": [
    "# ket qua khi qua convolution\n",
    "for i in range(3-2+1): # theo chiều ngang\n",
    "    for j in range(3-2+1): # theo chiều doc\n",
    "        print(np.sum(np.matmul(inpt[j:j+2,i:i+2],conv)))"
   ]
  },
  {
   "cell_type": "code",
   "execution_count": 26,
   "metadata": {},
   "outputs": [
    {
     "data": {
      "text/plain": [
       "array([[12, 16],\n",
       "       [24, 28]])"
      ]
     },
     "execution_count": 26,
     "metadata": {},
     "output_type": "execute_result"
    }
   ],
   "source": [
    "# ket qua sau conv\n",
    "out_conv = np.array([[12,16],[24,28]])\n",
    "out_conv"
   ]
  },
  {
   "cell_type": "code",
   "execution_count": 56,
   "metadata": {},
   "outputs": [
    {
     "data": {
      "text/plain": [
       "array([16, 28])"
      ]
     },
     "execution_count": 56,
     "metadata": {},
     "output_type": "execute_result"
    }
   ],
   "source": [
    "# sau khi qua max-pooling filter 1*2 \n",
    "pooling = np.amax(out_conv,axis = 1)\n",
    "pooling"
   ]
  },
  {
   "cell_type": "code",
   "execution_count": 62,
   "metadata": {},
   "outputs": [
    {
     "data": {
      "text/plain": [
       "220"
      ]
     },
     "execution_count": 62,
     "metadata": {},
     "output_type": "execute_result"
    }
   ],
   "source": [
    "# output cuối cùng\n",
    "np.sum(np.multiply(weightdense1,pooling)) + np.sum(np.multiply(weightdense2,pooling))"
   ]
  }
 ],
 "metadata": {
  "kernelspec": {
   "display_name": "Python 3",
   "language": "python",
   "name": "python3"
  },
  "language_info": {
   "codemirror_mode": {
    "name": "ipython",
    "version": 3
   },
   "file_extension": ".py",
   "mimetype": "text/x-python",
   "name": "python",
   "nbconvert_exporter": "python",
   "pygments_lexer": "ipython3",
   "version": "3.6.12"
  }
 },
 "nbformat": 4,
 "nbformat_minor": 4
}
